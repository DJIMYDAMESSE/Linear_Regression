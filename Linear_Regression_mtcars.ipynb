{
 "cells": [
  {
   "cell_type": "markdown",
   "metadata": {},
   "source": [
    "The dataset, mtcars is an in-built data set about cars which contains 32 observations and 11 variables. \n",
    "https://stat.ethz.ch/R-manual/R-devel/library/datasets/html/mtcars.html\n",
    "The data was extracted from the 1974 Motor Trend US magazine, and comprises fuel consumption and 10 aspects of automobile design and performance for 32 automobiles (1973–74 models). \n",
    "\n",
    "| Sl No | Variable | Description |\n",
    "| --- | ---------------- | -----------------------------------|\n",
    "| 1 | mpg | Miles/(US) gallon | \n",
    "| 2 | cyl | Number of cylinders | \n",
    "| 3 | disp | Displacement (cu.in.) | \n",
    "| 4 | hp | Gross horsepower | \n",
    "| 5 | drat | Rear axle ratio | \n",
    "| 6 | wt | Weight (1000 lbs) | \n",
    "| 7 | qsec | 1/4 mile time | \n",
    "| 8 | vs | Engine (0 = V-shaped, 1 = straight) | \n",
    "| 9 | am | Transmission (0 = automatic, 1 = manual) | \n",
    "| 10 | gear | Number of forward gears | \n",
    "| 11 | carb | Number of carburetors | "
   ]
  },
  {
   "cell_type": "code",
   "execution_count": 1,
   "metadata": {
    "collapsed": true
   },
   "outputs": [],
   "source": [
    "import pandas                   as pd\n",
    "import numpy                    as np\n",
    "import matplotlib.pyplot        as plt\n",
    "import seaborn                  as sns\n",
    "import statsmodels.api          as sm\n",
    "import statsmodels.stats.api    as sms\n",
    "from   statsmodels.compat       import lzip\n",
    "from   statsmodels.stats        import diagnostic as diag\n",
    "\n",
    "\n",
    "from  statsmodels.stats.outliers_influence import variance_inflation_factor"
   ]
  },
  {
   "cell_type": "code",
   "execution_count": 2,
   "metadata": {},
   "outputs": [
    {
     "name": "stdout",
     "output_type": "stream",
     "text": [
      "      Mazda RX4  Mazda RX4 Wag  Datsun 710  Hornet 4 Drive\n",
      "mpg       21.00         21.000       22.80          21.400\n",
      "cyl        6.00          6.000        4.00           6.000\n",
      "disp     160.00        160.000      108.00         258.000\n",
      "hp       110.00        110.000       93.00         110.000\n",
      "drat       3.90          3.900        3.85           3.080\n",
      "wt         2.62          2.875        2.32           3.215\n",
      "qsec      16.46         17.020       18.61          19.440\n",
      "vs         0.00          0.000        1.00           1.000\n",
      "am         1.00          1.000        1.00           0.000\n",
      "gear       4.00          4.000        4.00           3.000\n",
      "carb       4.00          4.000        1.00           1.000\n",
      "<class 'pandas.core.frame.DataFrame'>\n",
      "Index: 32 entries, Mazda RX4 to Volvo 142E\n",
      "Data columns (total 11 columns):\n",
      "mpg     32 non-null float64\n",
      "cyl     32 non-null int64\n",
      "disp    32 non-null float64\n",
      "hp      32 non-null int64\n",
      "drat    32 non-null float64\n",
      "wt      32 non-null float64\n",
      "qsec    32 non-null float64\n",
      "vs      32 non-null int64\n",
      "am      32 non-null int64\n",
      "gear    32 non-null int64\n",
      "carb    32 non-null int64\n",
      "dtypes: float64(5), int64(6)\n",
      "memory usage: 3.0+ KB\n",
      "None\n"
     ]
    }
   ],
   "source": [
    "cars = sm.datasets.get_rdataset('mtcars').data\n",
    "print(cars.head(4).T)\n",
    "print(cars.info())"
   ]
  },
  {
   "cell_type": "code",
   "execution_count": 3,
   "metadata": {},
   "outputs": [],
   "source": [
    "feature_names = ['cyl','disp','hp','drat','wt','qsec','vs','am','gear','carb']\n",
    "X  =  cars.loc[:,feature_names]\n",
    "y  =  cars.mpg"
   ]
  },
  {
   "cell_type": "code",
   "execution_count": 4,
   "metadata": {},
   "outputs": [
    {
     "data": {
      "text/plain": [
       "mpg     0\n",
       "cyl     0\n",
       "disp    0\n",
       "hp      0\n",
       "drat    0\n",
       "wt      0\n",
       "qsec    0\n",
       "vs      0\n",
       "am      0\n",
       "gear    0\n",
       "carb    0\n",
       "dtype: int64"
      ]
     },
     "execution_count": 4,
     "metadata": {},
     "output_type": "execute_result"
    }
   ],
   "source": [
    "cars.isnull().sum()"
   ]
  },
  {
   "cell_type": "markdown",
   "metadata": {},
   "source": [
    "### No missing values"
   ]
  },
  {
   "cell_type": "code",
   "execution_count": 5,
   "metadata": {},
   "outputs": [
    {
     "data": {
      "text/plain": [
       "mpg        36.324103\n",
       "cyl         3.189516\n",
       "disp    15360.799829\n",
       "hp       4700.866935\n",
       "drat        0.285881\n",
       "wt          0.957379\n",
       "qsec        3.193166\n",
       "vs          0.254032\n",
       "am          0.248992\n",
       "gear        0.544355\n",
       "carb        2.608871\n",
       "dtype: float64"
      ]
     },
     "execution_count": 5,
     "metadata": {},
     "output_type": "execute_result"
    }
   ],
   "source": [
    "cars.var()"
   ]
  },
  {
   "cell_type": "markdown",
   "metadata": {},
   "source": [
    "We are not interested in the variables that have least variance < 3 or zero variance."
   ]
  },
  {
   "cell_type": "code",
   "execution_count": 6,
   "metadata": {},
   "outputs": [],
   "source": [
    "X         =  cars[['disp', 'cyl','hp', 'qsec']]\n",
    "y         =  cars['mpg']"
   ]
  },
  {
   "cell_type": "code",
   "execution_count": 7,
   "metadata": {},
   "outputs": [
    {
     "data": {
      "text/html": [
       "<table class=\"simpletable\">\n",
       "<caption>OLS Regression Results</caption>\n",
       "<tr>\n",
       "  <th>Dep. Variable:</th>           <td>mpg</td>       <th>  R-squared:         </th> <td>   0.785</td>\n",
       "</tr>\n",
       "<tr>\n",
       "  <th>Model:</th>                   <td>OLS</td>       <th>  Adj. R-squared:    </th> <td>   0.753</td>\n",
       "</tr>\n",
       "<tr>\n",
       "  <th>Method:</th>             <td>Least Squares</td>  <th>  F-statistic:       </th> <td>   24.59</td>\n",
       "</tr>\n",
       "<tr>\n",
       "  <th>Date:</th>             <td>Wed, 29 May 2019</td> <th>  Prob (F-statistic):</th> <td>1.15e-08</td>\n",
       "</tr>\n",
       "<tr>\n",
       "  <th>Time:</th>                 <td>19:20:08</td>     <th>  Log-Likelihood:    </th> <td> -77.812</td>\n",
       "</tr>\n",
       "<tr>\n",
       "  <th>No. Observations:</th>      <td>    32</td>      <th>  AIC:               </th> <td>   165.6</td>\n",
       "</tr>\n",
       "<tr>\n",
       "  <th>Df Residuals:</th>          <td>    27</td>      <th>  BIC:               </th> <td>   173.0</td>\n",
       "</tr>\n",
       "<tr>\n",
       "  <th>Df Model:</th>              <td>     4</td>      <th>                     </th>     <td> </td>   \n",
       "</tr>\n",
       "<tr>\n",
       "  <th>Covariance Type:</th>      <td>nonrobust</td>    <th>                     </th>     <td> </td>   \n",
       "</tr>\n",
       "</table>\n",
       "<table class=\"simpletable\">\n",
       "<tr>\n",
       "    <td></td>       <th>coef</th>     <th>std err</th>      <th>t</th>      <th>P>|t|</th>  <th>[0.025</th>    <th>0.975]</th>  \n",
       "</tr>\n",
       "<tr>\n",
       "  <th>const</th> <td>   49.2352</td> <td>   10.699</td> <td>    4.602</td> <td> 0.000</td> <td>   27.282</td> <td>   71.189</td>\n",
       "</tr>\n",
       "<tr>\n",
       "  <th>disp</th>  <td>   -0.0119</td> <td>    0.011</td> <td>   -1.055</td> <td> 0.301</td> <td>   -0.035</td> <td>    0.011</td>\n",
       "</tr>\n",
       "<tr>\n",
       "  <th>cyl</th>   <td>   -1.6137</td> <td>    0.826</td> <td>   -1.953</td> <td> 0.061</td> <td>   -3.309</td> <td>    0.082</td>\n",
       "</tr>\n",
       "<tr>\n",
       "  <th>hp</th>    <td>   -0.0288</td> <td>    0.017</td> <td>   -1.659</td> <td> 0.109</td> <td>   -0.065</td> <td>    0.007</td>\n",
       "</tr>\n",
       "<tr>\n",
       "  <th>qsec</th>  <td>   -0.6827</td> <td>    0.471</td> <td>   -1.448</td> <td> 0.159</td> <td>   -1.650</td> <td>    0.285</td>\n",
       "</tr>\n",
       "</table>\n",
       "<table class=\"simpletable\">\n",
       "<tr>\n",
       "  <th>Omnibus:</th>       <td> 4.461</td> <th>  Durbin-Watson:     </th> <td>   1.750</td>\n",
       "</tr>\n",
       "<tr>\n",
       "  <th>Prob(Omnibus):</th> <td> 0.107</td> <th>  Jarque-Bera (JB):  </th> <td>   3.519</td>\n",
       "</tr>\n",
       "<tr>\n",
       "  <th>Skew:</th>          <td> 0.811</td> <th>  Prob(JB):          </th> <td>   0.172</td>\n",
       "</tr>\n",
       "<tr>\n",
       "  <th>Kurtosis:</th>      <td> 3.092</td> <th>  Cond. No.          </th> <td>6.16e+03</td>\n",
       "</tr>\n",
       "</table><br/><br/>Warnings:<br/>[1] Standard Errors assume that the covariance matrix of the errors is correctly specified.<br/>[2] The condition number is large, 6.16e+03. This might indicate that there are<br/>strong multicollinearity or other numerical problems."
      ],
      "text/plain": [
       "<class 'statsmodels.iolib.summary.Summary'>\n",
       "\"\"\"\n",
       "                            OLS Regression Results                            \n",
       "==============================================================================\n",
       "Dep. Variable:                    mpg   R-squared:                       0.785\n",
       "Model:                            OLS   Adj. R-squared:                  0.753\n",
       "Method:                 Least Squares   F-statistic:                     24.59\n",
       "Date:                Wed, 29 May 2019   Prob (F-statistic):           1.15e-08\n",
       "Time:                        19:20:08   Log-Likelihood:                -77.812\n",
       "No. Observations:                  32   AIC:                             165.6\n",
       "Df Residuals:                      27   BIC:                             173.0\n",
       "Df Model:                           4                                         \n",
       "Covariance Type:            nonrobust                                         \n",
       "==============================================================================\n",
       "                 coef    std err          t      P>|t|      [0.025      0.975]\n",
       "------------------------------------------------------------------------------\n",
       "const         49.2352     10.699      4.602      0.000      27.282      71.189\n",
       "disp          -0.0119      0.011     -1.055      0.301      -0.035       0.011\n",
       "cyl           -1.6137      0.826     -1.953      0.061      -3.309       0.082\n",
       "hp            -0.0288      0.017     -1.659      0.109      -0.065       0.007\n",
       "qsec          -0.6827      0.471     -1.448      0.159      -1.650       0.285\n",
       "==============================================================================\n",
       "Omnibus:                        4.461   Durbin-Watson:                   1.750\n",
       "Prob(Omnibus):                  0.107   Jarque-Bera (JB):                3.519\n",
       "Skew:                           0.811   Prob(JB):                        0.172\n",
       "Kurtosis:                       3.092   Cond. No.                     6.16e+03\n",
       "==============================================================================\n",
       "\n",
       "Warnings:\n",
       "[1] Standard Errors assume that the covariance matrix of the errors is correctly specified.\n",
       "[2] The condition number is large, 6.16e+03. This might indicate that there are\n",
       "strong multicollinearity or other numerical problems.\n",
       "\"\"\""
      ]
     },
     "execution_count": 7,
     "metadata": {},
     "output_type": "execute_result"
    }
   ],
   "source": [
    "X_            = sm.add_constant(X, has_constant= 'add') # Add an intercept to our model\n",
    "model         = sm.OLS(y, X_).fit() ## OLS(output, input)\n",
    "predictions   = model.predict(X_)\n",
    "\n",
    "## Print the statistics\n",
    "model.summary()"
   ]
  },
  {
   "cell_type": "markdown",
   "metadata": {},
   "source": [
    "## Check assumptions\n",
    "### 1) No outliers"
   ]
  },
  {
   "cell_type": "markdown",
   "metadata": {},
   "source": [
    "Firstly we try to get the studentized residuals using get_influence( ). "
   ]
  },
  {
   "cell_type": "code",
   "execution_count": 8,
   "metadata": {},
   "outputs": [
    {
     "name": "stdout",
     "output_type": "stream",
     "text": [
      "[-0.80168604 -0.64906313 -1.16454458  0.46665785  1.174692   -0.68286156\n",
      "  0.04673494 -0.41818185  0.02986542 -0.79707089 -1.16789736  0.14990053\n",
      "  0.52113817 -0.1317336  -0.81587213 -0.78152233  0.77688407  2.135197\n",
      "  0.94420056  2.96693418 -1.21755151 -0.42739365 -0.48739793 -0.4449052\n",
      "  1.6082485   0.09117305 -0.49794136  1.31305912  0.41990687 -0.90729883\n",
      "  0.9143045  -1.47959995]\n"
     ]
    }
   ],
   "source": [
    "influence     = model.get_influence()  \n",
    "resid_student = influence.resid_studentized_external\n",
    "print(resid_student)"
   ]
  },
  {
   "cell_type": "markdown",
   "metadata": {},
   "source": [
    "From the above list, we do not find any value above 3. So there is no outlier. \n",
    "\n",
    "### No outlier assumption is satisfied."
   ]
  },
  {
   "cell_type": "markdown",
   "metadata": {},
   "source": [
    "### 2) Constant variance"
   ]
  },
  {
   "cell_type": "markdown",
   "metadata": {},
   "source": [
    "Checking heteroscedasticity Using Goldfeld Quandt we test for heteroscedasticity.\n",
    "\n",
    "* Null Hypothesis: Error terms are homoscedastic\n",
    "* Alternative Hypothesis: Error terms are heteroscedastic."
   ]
  },
  {
   "cell_type": "code",
   "execution_count": 9,
   "metadata": {},
   "outputs": [
    {
     "data": {
      "text/plain": [
       "[('F statistic', 3.8963964956266275), ('p-value', 0.01660790822023686)]"
      ]
     },
     "execution_count": 9,
     "metadata": {},
     "output_type": "execute_result"
    }
   ],
   "source": [
    "name = ['F statistic', 'p-value']\n",
    "test = sms.het_goldfeldquandt(model.resid, model.model.exog)\n",
    "lzip(name, test)"
   ]
  },
  {
   "cell_type": "markdown",
   "metadata": {},
   "source": [
    "The p-value is < 0.05 and it is 0.001 hence we can say that the residuals do not have constant variance. \n",
    "\n",
    "## Constant variance assumption is not satisfied."
   ]
  },
  {
   "cell_type": "markdown",
   "metadata": {},
   "source": [
    "### 3) No autocorrelation"
   ]
  },
  {
   "cell_type": "markdown",
   "metadata": {},
   "source": [
    "#### Checking for autocorrelation To ensure the absence of autocorrelation we use Ljungbox test.\n",
    "\n",
    "####  Null Hypothesis: Autocorrelation is absent.\n",
    "#### Alternative Hypothesis: Autocorrelation is present."
   ]
  },
  {
   "cell_type": "code",
   "execution_count": 10,
   "metadata": {},
   "outputs": [
    {
     "data": {
      "text/plain": [
       "(array([0.22335757]), array([0.63649344]))"
      ]
     },
     "execution_count": 10,
     "metadata": {},
     "output_type": "execute_result"
    }
   ],
   "source": [
    "diag.acorr_ljungbox(model.resid, lags = 1) "
   ]
  },
  {
   "cell_type": "markdown",
   "metadata": {},
   "source": [
    "Since p-value of 0.6365 > 0.05, we can accept the null hypothesis and can say that autocorrelation is absent.\n",
    "\n",
    "## No auto correlation assumption is satisfied"
   ]
  },
  {
   "cell_type": "markdown",
   "metadata": {},
   "source": [
    "### 4) Normality of the residuals"
   ]
  },
  {
   "cell_type": "markdown",
   "metadata": {},
   "source": [
    "#### We use Jarque-Bera test  from scipy library to check the normality of residuals.\n",
    "\n",
    "Most tests for normality are based either on comparing the empirical cumulative distribution with the theoretical normal cumulative distribution (Kolmogorov-Smirnov, Anderson-Darling, Chi-Square) or empirical quantiles with the theoretical normal quantiles (Wilk-Shapiro). \n",
    "\n",
    "The Jarque-Bera test is based on the sample skewness and sample kurtosis. \n",
    "\n",
    "\n",
    "#### Null Hypothesis: The residuals are normally distributed.\n",
    "\n",
    "####  Alternative Hypothesis: The residuals are not normally distributed."
   ]
  },
  {
   "cell_type": "markdown",
   "metadata": {},
   "source": [
    "We find from the earlier summary table, that Prob(JB) = 0.172\n",
    "Since p value of 0.172 > 0.05, we do not have evidence to reject the null hypothesis and thus conclude that the residuals are normally distributed.\n",
    "\n",
    "## Normality of the residuals assumption is satisfied."
   ]
  },
  {
   "cell_type": "markdown",
   "metadata": {},
   "source": [
    " ### 5) Linearity\n",
    "\n",
    "The residual vs fitted values plot is used to check for constant variance and linearity, and to identify potential outliers in the data."
   ]
  },
  {
   "cell_type": "code",
   "execution_count": 11,
   "metadata": {},
   "outputs": [
    {
     "data": {
      "image/png": "[encoded data removed]",
      "text/plain": [
       "<matplotlib.figure.Figure at 0x16654ca0320>"
      ]
     },
     "metadata": {},
     "output_type": "display_data"
    }
   ],
   "source": [
    "residuals  =  model.resid\n",
    "# Plot the residuals after fitting a linear model\n",
    "ax         = sns.residplot(y, residuals, lowess = True, color = \"g\")\n",
    "\n",
    "ax.set(xlabel='Fitted Value', ylabel='Residuals', title = 'Residual Vs Fitted values PLOT \\n')\n",
    "plt.show()"
   ]
  },
  {
   "cell_type": "markdown",
   "metadata": {},
   "source": [
    "The residual plot indicates that the model’s residuals are restricting to mean of zero to a great extent exhibiting linearity."
   ]
  },
  {
   "cell_type": "markdown",
   "metadata": {},
   "source": [
    "### 6) No multi-collinearity\n",
    "\n",
    "This assumption is not required for Lasso or Ridge regression techniques."
   ]
  },
  {
   "cell_type": "code",
   "execution_count": 12,
   "metadata": {},
   "outputs": [],
   "source": [
    "vif = [variance_inflation_factor(X.values, j) for j in range(X.shape[1])]"
   ]
  },
  {
   "cell_type": "code",
   "execution_count": 13,
   "metadata": {},
   "outputs": [
    {
     "name": "stdout",
     "output_type": "stream",
     "text": [
      "[(21.925176669877555, 'cyl'), (74.67721308174863, 'disp'), (20.75329623006716, 'hp'), (14.37250462188475, 'drat')]\n"
     ]
    }
   ],
   "source": [
    "print(lzip(vif, feature_names))"
   ]
  },
  {
   "cell_type": "code",
   "execution_count": null,
   "metadata": {
    "collapsed": true
   },
   "outputs": [],
   "source": []
  }
 ],
 "metadata": {
  "kernelspec": {
   "display_name": "Python 3",
   "language": "python",
   "name": "python3"
  },
  "language_info": {
   "codemirror_mode": {
    "name": "ipython",
    "version": 3
   },
   "file_extension": ".py",
   "mimetype": "text/x-python",
   "name": "python",
   "nbconvert_exporter": "python",
   "pygments_lexer": "ipython3",
   "version": "3.6.3"
  }
 },
 "nbformat": 4,
 "nbformat_minor": 2
}
